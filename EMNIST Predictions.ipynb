{
 "cells": [
  {
   "cell_type": "markdown",
   "id": "35a4a048",
   "metadata": {},
   "source": [
    "# In this Notebook I am taking a real life image of a handwritten character and classifying it with my saved model. \n",
    "\n",
    "## This will test the real life accuracy and will act as a true test of performance. \n",
    "\n"
   ]
  },
  {
   "cell_type": "code",
   "execution_count": 1,
   "id": "4affb51d",
   "metadata": {},
   "outputs": [],
   "source": [
    "import tensorflow as tf\n",
    "import numpy as np\n",
    "import matplotlib.pyplot as plt\n",
    "import cv2"
   ]
  },
  {
   "cell_type": "code",
   "execution_count": 2,
   "id": "b92d045b",
   "metadata": {
    "scrolled": true
   },
   "outputs": [
    {
     "name": "stderr",
     "output_type": "stream",
     "text": [
      "2022-02-27 22:28:51.940853: I tensorflow/core/common_runtime/pluggable_device/pluggable_device_factory.cc:305] Could not identify NUMA node of platform GPU ID 0, defaulting to 0. Your kernel may not have been built with NUMA support.\n",
      "2022-02-27 22:28:51.941278: I tensorflow/core/common_runtime/pluggable_device/pluggable_device_factory.cc:271] Created TensorFlow device (/job:localhost/replica:0/task:0/device:GPU:0 with 0 MB memory) -> physical PluggableDevice (device: 0, name: METAL, pci bus id: <undefined>)\n"
     ]
    },
    {
     "name": "stdout",
     "output_type": "stream",
     "text": [
      "Metal device set to: Apple M1\n",
      "Model: \"sequential\"\n",
      "_________________________________________________________________\n",
      " Layer (type)                Output Shape              Param #   \n",
      "=================================================================\n",
      " conv2d (Conv2D)             (None, 28, 28, 32)        320       \n",
      "                                                                 \n",
      " max_pooling2d (MaxPooling2D  (None, 14, 14, 32)       0         \n",
      " )                                                               \n",
      "                                                                 \n",
      " conv2d_1 (Conv2D)           (None, 12, 12, 64)        18496     \n",
      "                                                                 \n",
      " max_pooling2d_1 (MaxPooling  (None, 6, 6, 64)         0         \n",
      " 2D)                                                             \n",
      "                                                                 \n",
      " conv2d_2 (Conv2D)           (None, 4, 4, 128)         73856     \n",
      "                                                                 \n",
      " max_pooling2d_2 (MaxPooling  (None, 2, 2, 128)        0         \n",
      " 2D)                                                             \n",
      "                                                                 \n",
      " dropout (Dropout)           (None, 2, 2, 128)         0         \n",
      "                                                                 \n",
      " flatten (Flatten)           (None, 512)               0         \n",
      "                                                                 \n",
      " dense (Dense)               (None, 256)               131328    \n",
      "                                                                 \n",
      " dense_1 (Dense)             (None, 128)               32896     \n",
      "                                                                 \n",
      " dense_2 (Dense)             (None, 62)                7998      \n",
      "                                                                 \n",
      "=================================================================\n",
      "Total params: 264,894\n",
      "Trainable params: 264,894\n",
      "Non-trainable params: 0\n",
      "_________________________________________________________________\n"
     ]
    }
   ],
   "source": [
    "reloaded = tf.keras.models.load_model(\n",
    "      \"/Users/puravgupta/Jupyter Notebooks/EMNIST Saved Model\")\n",
    "\n",
    "reloaded.summary()"
   ]
  },
  {
   "cell_type": "code",
   "execution_count": 3,
   "id": "bde28d30",
   "metadata": {},
   "outputs": [
    {
     "data": {
      "text/plain": [
       "(None, 28, 28, 1)"
      ]
     },
     "execution_count": 3,
     "metadata": {},
     "output_type": "execute_result"
    }
   ],
   "source": [
    "reloaded.layers[0].input_shape"
   ]
  },
  {
   "cell_type": "code",
   "execution_count": 4,
   "id": "49132d78",
   "metadata": {
    "scrolled": true
   },
   "outputs": [
    {
     "data": {
      "image/png": "[encoded data removed]",
      "text/plain": [
       "<PIL.Image.Image image mode=1 size=629x629 at 0x15B7ACB50>"
      ]
     },
     "execution_count": 4,
     "metadata": {},
     "output_type": "execute_result"
    }
   ],
   "source": [
    "from PIL import Image\n",
    "user_test = '/Users/puravgupta/Downloads/T.png'\n",
    "col = Image.open(user_test)\n",
    "gray = col.convert('L')\n",
    "bw = gray.point(lambda x: 0 if x<100 else 255, '1')\n",
    "bw.save(\"/Users/puravgupta/Downloads/bw_image.jpg\")\n",
    "bw"
   ]
  },
  {
   "cell_type": "code",
   "execution_count": 5,
   "id": "fcf62cb1",
   "metadata": {
    "scrolled": false
   },
   "outputs": [
    {
     "name": "stdout",
     "output_type": "stream",
     "text": [
      "395641\n"
     ]
    },
    {
     "data": {
      "image/png": "[encoded data removed]",
      "text/plain": [
       "<Figure size 432x288 with 1 Axes>"
      ]
     },
     "metadata": {
      "needs_background": "light"
     },
     "output_type": "display_data"
    }
   ],
   "source": [
    "img_array = cv2.imread(\"/Users/puravgupta/Downloads/bw_image.jpg\", cv2.IMREAD_GRAYSCALE)\n",
    "img_array = cv2.bitwise_not(img_array)\n",
    "print(img_array.size)\n",
    "plt.imshow(img_array, cmap = plt.cm.binary)\n",
    "plt.show()"
   ]
  },
  {
   "cell_type": "code",
   "execution_count": 6,
   "id": "619c7cfc",
   "metadata": {},
   "outputs": [
    {
     "data": {
      "image/png": "[encoded data removed]",
      "text/plain": [
       "<Figure size 432x288 with 1 Axes>"
      ]
     },
     "metadata": {
      "needs_background": "light"
     },
     "output_type": "display_data"
    }
   ],
   "source": [
    "img_size = 28\n",
    "new_array = cv2.resize(img_array, (img_size,img_size))\n",
    "plt.imshow(new_array, cmap = plt.cm.binary)\n",
    "plt.show()"
   ]
  },
  {
   "cell_type": "code",
   "execution_count": 7,
   "id": "ca707767",
   "metadata": {},
   "outputs": [],
   "source": [
    "new_array = np.expand_dims(new_array, axis=0)\n",
    "user_test = tf.keras.utils.normalize(new_array, axis = 1)"
   ]
  },
  {
   "cell_type": "code",
   "execution_count": 8,
   "id": "af63b941",
   "metadata": {},
   "outputs": [],
   "source": [
    "characters = ['0','1','2','3','4','5','6','7','8','9',\n",
    "'A','B','C','D','E','F','G','H','I','J','K','L','M','N','O','P','Q','R','S','T','U','V','W','X','Y','Z',\n",
    "'a','b','c','d','e','f','g','h','i','j','k','l','m','n','o','p','q','r','s','t','u','v','w','x','y','z']"
   ]
  },
  {
   "cell_type": "code",
   "execution_count": 9,
   "id": "0bbb658a",
   "metadata": {},
   "outputs": [
    {
     "name": "stdout",
     "output_type": "stream",
     "text": [
      "Probability Distribution for 0 4.0647235e-05\n",
      "Probability Distribution for 1 0.00038866486\n",
      "Probability Distribution for 2 7.1471845e-07\n",
      "Probability Distribution for 3 3.192422e-06\n",
      "Probability Distribution for 4 9.677238e-05\n",
      "Probability Distribution for 5 0.0011212986\n",
      "Probability Distribution for 6 8.8516225e-07\n",
      "Probability Distribution for 7 0.00014714318\n",
      "Probability Distribution for 8 8.376327e-06\n",
      "Probability Distribution for 9 0.00025000478\n",
      "Probability Distribution for 10 3.2513128e-06\n",
      "Probability Distribution for 11 7.611707e-07\n",
      "Probability Distribution for 12 6.87351e-05\n",
      "Probability Distribution for 13 5.4688444e-06\n",
      "Probability Distribution for 14 2.09382e-05\n",
      "Probability Distribution for 15 0.0034319689\n",
      "Probability Distribution for 16 1.7146467e-05\n",
      "Probability Distribution for 17 8.0194064e-07\n",
      "Probability Distribution for 18 0.009193565\n",
      "Probability Distribution for 19 0.0019334195\n",
      "Probability Distribution for 20 0.00010166922\n",
      "Probability Distribution for 21 2.584091e-06\n",
      "Probability Distribution for 22 2.346341e-06\n",
      "Probability Distribution for 23 1.2584975e-05\n",
      "Probability Distribution for 24 0.00022755879\n",
      "Probability Distribution for 25 5.707721e-05\n",
      "Probability Distribution for 26 1.9192764e-06\n",
      "Probability Distribution for 27 3.1193557e-07\n",
      "Probability Distribution for 28 3.7296308e-05\n",
      "Probability Distribution for 29 0.9499863\n",
      "Probability Distribution for 30 0.0003658623\n",
      "Probability Distribution for 31 4.1613894e-06\n",
      "Probability Distribution for 32 0.00010128753\n",
      "Probability Distribution for 33 7.5828098e-06\n",
      "Probability Distribution for 34 0.0010734443\n",
      "Probability Distribution for 35 6.301529e-06\n",
      "Probability Distribution for 36 3.6087036e-05\n",
      "Probability Distribution for 37 5.8203673e-06\n",
      "Probability Distribution for 38 1.3113506e-06\n",
      "Probability Distribution for 39 7.829488e-05\n",
      "Probability Distribution for 40 0.0002460324\n",
      "Probability Distribution for 41 6.476012e-05\n",
      "Probability Distribution for 42 4.7206304e-05\n",
      "Probability Distribution for 43 1.18262615e-05\n",
      "Probability Distribution for 44 0.00021476748\n",
      "Probability Distribution for 45 0.0007047777\n",
      "Probability Distribution for 46 6.411642e-06\n",
      "Probability Distribution for 47 0.00016825179\n",
      "Probability Distribution for 48 7.3612017e-07\n",
      "Probability Distribution for 49 4.9712457e-06\n",
      "Probability Distribution for 50 1.455465e-05\n",
      "Probability Distribution for 51 1.0691381e-06\n",
      "Probability Distribution for 52 0.00011308184\n",
      "Probability Distribution for 53 7.944671e-05\n",
      "Probability Distribution for 54 7.290508e-06\n",
      "Probability Distribution for 55 0.029439313\n",
      "Probability Distribution for 56 1.0442704e-06\n",
      "Probability Distribution for 57 1.35193995e-05\n",
      "Probability Distribution for 58 1.0194299e-06\n",
      "Probability Distribution for 59 1.0960849e-06\n",
      "Probability Distribution for 60 1.4208526e-05\n",
      "Probability Distribution for 61 9.923241e-07\n",
      "The Predicted Value is T\n"
     ]
    },
    {
     "name": "stderr",
     "output_type": "stream",
     "text": [
      "2022-02-27 22:29:07.696671: W tensorflow/core/platform/profile_utils/cpu_utils.cc:128] Failed to get CPU frequency: 0 Hz\n",
      "2022-02-27 22:29:07.749838: I tensorflow/core/grappler/optimizers/custom_graph_optimizer_registry.cc:112] Plugin optimizer for device_type GPU is enabled.\n"
     ]
    }
   ],
   "source": [
    "predicted = reloaded.predict([[user_test]])\n",
    "a = predicted[0][0]\n",
    "for i in range(0,62):\n",
    "  b = predicted[0][i]\n",
    "  print(\"Probability Distribution for\",i,b)\n",
    "\n",
    "print(\"The Predicted Value is\",characters[np.argmax(predicted[0])])\n"
   ]
  },
  {
   "cell_type": "markdown",
   "id": "2e96098e",
   "metadata": {},
   "source": [
    "## Import tensorflowjs and then convert the model to .json file"
   ]
  },
  {
   "cell_type": "code",
   "execution_count": 12,
   "id": "357a8f44",
   "metadata": {},
   "outputs": [],
   "source": [
    "import tensorflowjs as tfjs"
   ]
  },
  {
   "cell_type": "code",
   "execution_count": 13,
   "id": "eca0708a",
   "metadata": {},
   "outputs": [],
   "source": [
    "tfjs.converters.save_keras_model(reloaded, \"/Users/puravgupta/Jupyter Notebooks/EMNIST js file\")"
   ]
  }
 ],
 "metadata": {
  "kernelspec": {
   "display_name": "Python 3 (ipykernel)",
   "language": "python",
   "name": "python3"
  },
  "language_info": {
   "codemirror_mode": {
    "name": "ipython",
    "version": 3
   },
   "file_extension": ".py",
   "mimetype": "text/x-python",
   "name": "python",
   "nbconvert_exporter": "python",
   "pygments_lexer": "ipython3",
   "version": "3.9.0"
  }
 },
 "nbformat": 4,
 "nbformat_minor": 5
}
