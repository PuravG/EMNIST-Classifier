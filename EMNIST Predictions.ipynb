{
 "cells": [
  {
   "cell_type": "markdown",
   "id": "35a4a048",
   "metadata": {},
   "source": [
    "# In this Notebook I am going to take a real life image of handwritten text and then try and classify it. \n",
    "\n",
    "## This will test my real life accuracy and it will actually tell me if the model is good at classifying. \n",
    "\n",
    "#### I would like to know this as I have my own doubts about the model. For example when I was predicting the test set, even though it has seen that data before, it got one of them really wrong. "
   ]
  },
  {
   "cell_type": "code",
   "execution_count": 1,
   "id": "4affb51d",
   "metadata": {},
   "outputs": [],
   "source": [
    "import tensorflow as tf\n",
    "import numpy as np\n",
    "import matplotlib.pyplot as plt\n",
    "import cv2"
   ]
  },
  {
   "cell_type": "code",
   "execution_count": 2,
   "id": "b92d045b",
   "metadata": {
    "scrolled": true
   },
   "outputs": [
    {
     "name": "stderr",
     "output_type": "stream",
     "text": [
      "2022-02-20 20:01:14.931707: I tensorflow/core/common_runtime/pluggable_device/pluggable_device_factory.cc:305] Could not identify NUMA node of platform GPU ID 0, defaulting to 0. Your kernel may not have been built with NUMA support.\n",
      "2022-02-20 20:01:14.931805: I tensorflow/core/common_runtime/pluggable_device/pluggable_device_factory.cc:271] Created TensorFlow device (/job:localhost/replica:0/task:0/device:GPU:0 with 0 MB memory) -> physical PluggableDevice (device: 0, name: METAL, pci bus id: <undefined>)\n"
     ]
    },
    {
     "name": "stdout",
     "output_type": "stream",
     "text": [
      "Metal device set to: Apple M1\n",
      "Model: \"sequential\"\n",
      "_________________________________________________________________\n",
      " Layer (type)                Output Shape              Param #   \n",
      "=================================================================\n",
      " conv2d (Conv2D)             (None, 28, 28, 32)        320       \n",
      "                                                                 \n",
      " max_pooling2d (MaxPooling2D  (None, 14, 14, 32)       0         \n",
      " )                                                               \n",
      "                                                                 \n",
      " conv2d_1 (Conv2D)           (None, 12, 12, 64)        18496     \n",
      "                                                                 \n",
      " max_pooling2d_1 (MaxPooling  (None, 6, 6, 64)         0         \n",
      " 2D)                                                             \n",
      "                                                                 \n",
      " conv2d_2 (Conv2D)           (None, 4, 4, 128)         73856     \n",
      "                                                                 \n",
      " max_pooling2d_2 (MaxPooling  (None, 2, 2, 128)        0         \n",
      " 2D)                                                             \n",
      "                                                                 \n",
      " dropout (Dropout)           (None, 2, 2, 128)         0         \n",
      "                                                                 \n",
      " flatten (Flatten)           (None, 512)               0         \n",
      "                                                                 \n",
      " dense (Dense)               (None, 256)               131328    \n",
      "                                                                 \n",
      " dense_1 (Dense)             (None, 128)               32896     \n",
      "                                                                 \n",
      " dense_2 (Dense)             (None, 62)                7998      \n",
      "                                                                 \n",
      "=================================================================\n",
      "Total params: 264,894\n",
      "Trainable params: 264,894\n",
      "Non-trainable params: 0\n",
      "_________________________________________________________________\n"
     ]
    }
   ],
   "source": [
    "reloaded = tf.keras.models.load_model(\n",
    "      \"/Users/puravgupta/Jupyter Notebooks/EMNIST Saved Model\")\n",
    "\n",
    "reloaded.summary()"
   ]
  },
  {
   "cell_type": "code",
   "execution_count": 3,
   "id": "bde28d30",
   "metadata": {},
   "outputs": [
    {
     "data": {
      "text/plain": [
       "(None, 28, 28, 1)"
      ]
     },
     "execution_count": 3,
     "metadata": {},
     "output_type": "execute_result"
    }
   ],
   "source": [
    "reloaded.layers[0].input_shape"
   ]
  },
  {
   "cell_type": "code",
   "execution_count": 4,
   "id": "49132d78",
   "metadata": {
    "scrolled": true
   },
   "outputs": [
    {
     "data": {
      "image/png": "[encoded data removed]",
      "text/plain": [
       "<PIL.Image.Image image mode=1 size=629x629 at 0x16ACEBFA0>"
      ]
     },
     "execution_count": 4,
     "metadata": {},
     "output_type": "execute_result"
    }
   ],
   "source": [
    "from PIL import Image\n",
    "user_test = '/Users/puravgupta/Downloads/K.png'\n",
    "col = Image.open(user_test)\n",
    "gray = col.convert('L')\n",
    "bw = gray.point(lambda x: 0 if x<100 else 255, '1')\n",
    "bw.save(\"/Users/puravgupta/Downloads/bw_image.jpg\")\n",
    "bw"
   ]
  },
  {
   "cell_type": "code",
   "execution_count": 5,
   "id": "fcf62cb1",
   "metadata": {
    "scrolled": false
   },
   "outputs": [
    {
     "name": "stdout",
     "output_type": "stream",
     "text": [
      "395641\n"
     ]
    },
    {
     "data": {
      "image/png": "[encoded data removed]",
      "text/plain": [
       "<Figure size 432x288 with 1 Axes>"
      ]
     },
     "metadata": {
      "needs_background": "light"
     },
     "output_type": "display_data"
    }
   ],
   "source": [
    "img_array = cv2.imread(\"/Users/puravgupta/Downloads/bw_image.jpg\", cv2.IMREAD_GRAYSCALE)\n",
    "img_array = cv2.bitwise_not(img_array)\n",
    "print(img_array.size)\n",
    "plt.imshow(img_array, cmap = plt.cm.binary)\n",
    "plt.show()"
   ]
  },
  {
   "cell_type": "code",
   "execution_count": 6,
   "id": "619c7cfc",
   "metadata": {},
   "outputs": [
    {
     "data": {
      "image/png": "[encoded data removed]",
      "text/plain": [
       "<Figure size 432x288 with 1 Axes>"
      ]
     },
     "metadata": {
      "needs_background": "light"
     },
     "output_type": "display_data"
    }
   ],
   "source": [
    "img_size = 28\n",
    "new_array = cv2.resize(img_array, (img_size,img_size))\n",
    "plt.imshow(new_array, cmap = plt.cm.binary)\n",
    "plt.show()"
   ]
  },
  {
   "cell_type": "code",
   "execution_count": 7,
   "id": "ca707767",
   "metadata": {},
   "outputs": [],
   "source": [
    "new_array = np.expand_dims(new_array, axis=0)\n",
    "user_test = tf.keras.utils.normalize(new_array, axis = 1)"
   ]
  },
  {
   "cell_type": "code",
   "execution_count": 8,
   "id": "af63b941",
   "metadata": {},
   "outputs": [],
   "source": [
    "characters = ['0','1','2','3','4','5','6','7','8','9',\n",
    "'A','B','C','D','E','F','G','H','I','J','K','L','M','N','O','P','Q','R','S','T','U','V','W','X','Y','Z',\n",
    "'a','b','c','d','e','f','g','h','i','j','k','l','m','n','o','p','q','r','s','t','u','v','w','x','y','z']"
   ]
  },
  {
   "cell_type": "code",
   "execution_count": 9,
   "id": "0bbb658a",
   "metadata": {},
   "outputs": [
    {
     "name": "stdout",
     "output_type": "stream",
     "text": [
      "Probability Distribution for 0 2.5140157e-13\n",
      "Probability Distribution for 1 1.2684079e-10\n",
      "Probability Distribution for 2 1.7748944e-10\n",
      "Probability Distribution for 3 4.0962156e-12\n",
      "Probability Distribution for 4 9.333899e-08\n",
      "Probability Distribution for 5 1.7343266e-09\n",
      "Probability Distribution for 6 4.6838804e-09\n",
      "Probability Distribution for 7 4.8837384e-10\n",
      "Probability Distribution for 8 3.1076405e-10\n",
      "Probability Distribution for 9 4.1685587e-12\n",
      "Probability Distribution for 10 8.217259e-08\n",
      "Probability Distribution for 11 6.8639476e-09\n",
      "Probability Distribution for 12 1.07619184e-10\n",
      "Probability Distribution for 13 6.849073e-11\n",
      "Probability Distribution for 14 2.5024454e-07\n",
      "Probability Distribution for 15 3.0286157e-07\n",
      "Probability Distribution for 16 6.315089e-08\n",
      "Probability Distribution for 17 7.477117e-07\n",
      "Probability Distribution for 18 4.763012e-10\n",
      "Probability Distribution for 19 1.1883468e-10\n",
      "Probability Distribution for 20 0.99974924\n",
      "Probability Distribution for 21 1.9878962e-08\n",
      "Probability Distribution for 22 3.3296044e-10\n",
      "Probability Distribution for 23 1.9914266e-10\n",
      "Probability Distribution for 24 9.746582e-13\n",
      "Probability Distribution for 25 1.8458413e-10\n",
      "Probability Distribution for 26 5.2739124e-10\n",
      "Probability Distribution for 27 0.00023977866\n",
      "Probability Distribution for 28 1.340682e-09\n",
      "Probability Distribution for 29 2.1027848e-10\n",
      "Probability Distribution for 30 1.8614001e-08\n",
      "Probability Distribution for 31 1.571301e-10\n",
      "Probability Distribution for 32 1.5517755e-09\n",
      "Probability Distribution for 33 5.7194775e-06\n",
      "Probability Distribution for 34 6.338258e-08\n",
      "Probability Distribution for 35 5.868241e-09\n",
      "Probability Distribution for 36 2.6844785e-10\n",
      "Probability Distribution for 37 3.4290167e-08\n",
      "Probability Distribution for 38 2.0308245e-12\n",
      "Probability Distribution for 39 4.02343e-09\n",
      "Probability Distribution for 40 7.328031e-07\n",
      "Probability Distribution for 41 4.7001325e-10\n",
      "Probability Distribution for 42 2.3979153e-06\n",
      "Probability Distribution for 43 2.5203182e-09\n",
      "Probability Distribution for 44 7.245769e-09\n",
      "Probability Distribution for 45 3.649835e-07\n",
      "Probability Distribution for 46 1.01048645e-08\n",
      "Probability Distribution for 47 8.747586e-16\n",
      "Probability Distribution for 48 4.016766e-15\n",
      "Probability Distribution for 49 1.0314661e-15\n",
      "Probability Distribution for 50 1.8391334e-16\n",
      "Probability Distribution for 51 3.078526e-16\n",
      "Probability Distribution for 52 4.811366e-14\n",
      "Probability Distribution for 53 2.9071543e-15\n",
      "Probability Distribution for 54 4.3423974e-15\n",
      "Probability Distribution for 55 1.2021564e-15\n",
      "Probability Distribution for 56 4.990984e-17\n",
      "Probability Distribution for 57 1.1301583e-15\n",
      "Probability Distribution for 58 1.2497516e-14\n",
      "Probability Distribution for 59 9.38296e-16\n",
      "Probability Distribution for 60 6.3456394e-16\n",
      "Probability Distribution for 61 3.8691496e-16\n",
      "The Predicted Value is K\n"
     ]
    },
    {
     "name": "stderr",
     "output_type": "stream",
     "text": [
      "2022-02-20 20:01:15.388379: W tensorflow/core/platform/profile_utils/cpu_utils.cc:128] Failed to get CPU frequency: 0 Hz\n",
      "2022-02-20 20:01:15.420984: I tensorflow/core/grappler/optimizers/custom_graph_optimizer_registry.cc:112] Plugin optimizer for device_type GPU is enabled.\n"
     ]
    }
   ],
   "source": [
    "predicted = reloaded.predict([[user_test]])\n",
    "a = predicted[0][0]\n",
    "for i in range(0,62):\n",
    "  b = predicted[0][i]\n",
    "  print(\"Probability Distribution for\",i,b)\n",
    "\n",
    "print(\"The Predicted Value is\",characters[np.argmax(predicted[0])])\n"
   ]
  },
  {
   "cell_type": "markdown",
   "id": "2e96098e",
   "metadata": {},
   "source": [
    "## Import tensorflowjs and then convert the model to .json file"
   ]
  },
  {
   "cell_type": "code",
   "execution_count": 12,
   "id": "357a8f44",
   "metadata": {},
   "outputs": [],
   "source": [
    "import tensorflowjs as tfjs"
   ]
  },
  {
   "cell_type": "code",
   "execution_count": 13,
   "id": "eca0708a",
   "metadata": {},
   "outputs": [],
   "source": [
    "tfjs.converters.save_keras_model(reloaded, \"/Users/puravgupta/Jupyter Notebooks/EMNIST js file\")"
   ]
  }
 ],
 "metadata": {
  "kernelspec": {
   "display_name": "Python 3 (ipykernel)",
   "language": "python",
   "name": "python3"
  },
  "language_info": {
   "codemirror_mode": {
    "name": "ipython",
    "version": 3
   },
   "file_extension": ".py",
   "mimetype": "text/x-python",
   "name": "python",
   "nbconvert_exporter": "python",
   "pygments_lexer": "ipython3",
   "version": "3.9.0"
  }
 },
 "nbformat": 4,
 "nbformat_minor": 5
}
